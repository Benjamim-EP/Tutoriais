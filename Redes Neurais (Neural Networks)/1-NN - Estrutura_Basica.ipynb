{
 "cells": [
  {
   "cell_type": "code",
   "execution_count": 1,
   "metadata": {},
   "outputs": [],
   "source": [
    "from IPython.display import Image"
   ]
  },
  {
   "cell_type": "markdown",
   "metadata": {},
   "source": [
    "## Notações de Redes Neurais"
   ]
  },
  {
   "cell_type": "markdown",
   "metadata": {},
   "source": [
    "![title](imgs/NN1.png)"
   ]
  },
  {
   "cell_type": "markdown",
   "metadata": {},
   "source": [
    "#### Uma rede Neural é Composta por 2 Principais componentes:\n"
   ]
  },
  {
   "cell_type": "raw",
   "metadata": {},
   "source": [
    "Os Nós (Neuronios ou Nodes) \n",
    "               -> Na figura acima sendo representadas pelo \"a\"\n",
    "               -> Representados por circulos\n",
    "               -> São os inputs,Ativações ou Saidas (outputs)\n",
    "As Arestas(Sinapses)     \n",
    "               -> Representado pelas setas\n",
    "               -> São os Pesos(weights) e bias \n",
    "                \n",
    "Os Xn's são as Entradas (dados)\n",
    "e o  y^ é o dado de saida (Resultado) \n",
    "\n",
    "Nessa representação pode ser um poblema binario , Ou seja, a saida pode ser 0 ou 1,ou uma regressão, um valor numerico para o conjunto de dados de entrada fornecido\n"
   ]
  },
  {
   "cell_type": "markdown",
   "metadata": {},
   "source": [
    "### Dados de entrada e saída"
   ]
  },
  {
   "cell_type": "markdown",
   "metadata": {},
   "source": [
    "#### Variaveis\n",
    "\n",
    "|Code Symbol | Math Symbol | Definition | Dimensions\n",
    "| :-: | :-: | :-: | :-: |\n",
    "|X|$$X$$|Dado de Entrada| (Num_Exemplos, inputLayerSize)|\n",
    "|y |$$y$$|Dado de saida|(Num_Exemplos, outputLayerSize)|"
   ]
  },
  {
   "cell_type": "code",
   "execution_count": 4,
   "metadata": {},
   "outputs": [],
   "source": [
    "import numpy as np  # Biblioteca numpy para tratamento numérico"
   ]
  },
  {
   "cell_type": "code",
   "execution_count": 12,
   "metadata": {},
   "outputs": [],
   "source": [
    "# Exemplo de dados de entrada, para a rede neural da primeira figura\n",
    "# temos 3 exemplos para treinamento, cada exemplo é um vetor de contendo as 4 entradas para a rede neural\n",
    "''' \n",
    "   Vamos supor que a rede neural neste exemplo terá que prever o valor de uma casa, e para isto ela tera 4 valores de\n",
    "   entrada sendo estes 4 valores as dimensões de seus 4 comodos, como [cozinha,quarto,banheiro,garagem] e a saida (resposta) no\n",
    "   caso o y será o seu valor esperado, um resultado para cada exemplo de entrada.\n",
    "   \n",
    "   Neste exemplo ha uma regressão supervisionada, é supervisionada pq ja fornecemos as respostas (y) para cada conjunto de\n",
    "   entrada\n",
    "'''\n",
    "X = np.array(([10,20,30,40], [50,10,55,30], [10,20,45,90]), dtype=float)\n",
    "y = np.array(([22000], [45000], [60000]), dtype=float)"
   ]
  },
  {
   "cell_type": "code",
   "execution_count": 13,
   "metadata": {
    "scrolled": true
   },
   "outputs": [
    {
     "data": {
      "text/plain": [
       "'\\n   Neste exemplo a uma rede neural convencional densa,densa porque cada nó está conectado a cada um dos nós da camada \\n   seguinte, e convencional porque ha apenas uma camada oculta, se quisessemos que fosse uma \\n   rede neural profunda (deep learning) apenas adicionariamos mais camadas ocultas em sua estrutura (duas ou mais).\\n   \\n'"
      ]
     },
     "execution_count": 13,
     "metadata": {},
     "output_type": "execute_result"
    }
   ],
   "source": [
    "'''Antes de enviar os dados para treinamento, é importante observa a dimensão e as unidades dos dados, ou seja,\n",
    "   os dados de entrada estão em unidades de dezenas em quanto a nossa saida está em unidade de milhar, alem do mais\n",
    "   é muito mais viável computacionamente falando enviar estes dados dentro de um intervalo de 0 e 1, evitando em muitos\n",
    "   casos o overfitting.\n",
    "   \n",
    "   overfitting(Sobre-ajuste) = Modelo se ajusta muito bem ao conjunto de dados anteriormente observado, mas se mostra \n",
    "                               ineficaz  para prever novos resultados\n",
    "'''\n",
    "# Para aplicar o que foi dito acima \n",
    "X = X/np.amax(X, axis=0) # os valores acima são dividos pelo maior valor encontrado nos exemplos,\n",
    "                         # assim ficam na faixa de 0 a 1\n",
    "y = y/100000 # Apenas dividindo por cem mil\n"
   ]
  },
  {
   "cell_type": "raw",
   "metadata": {},
   "source": [
    "Neste exemplo a uma rede neural convencional densa,densa porque cada nó está conectado a cada um dos nós da camada \n",
    "seguinte, e convencional porque ha apenas uma camada oculta, se quisessemos que fosse uma \n",
    "rede neural profunda (deep learning) apenas adicionariamos mais camadas ocultas em sua estrutura (duas ou mais).\n"
   ]
  },
  {
   "cell_type": "markdown",
   "metadata": {},
   "source": [
    "#### Exemplo de uma Rede Neural Profunda"
   ]
  },
  {
   "cell_type": "markdown",
   "metadata": {},
   "source": [
    "![title](imgs/NN2.png)"
   ]
  },
  {
   "cell_type": "code",
   "execution_count": null,
   "metadata": {},
   "outputs": [],
   "source": [
    "'''\n",
    "Para um entendimento inicial:\n",
    "          Os neuronios somam as saídas de todas as suas sinapses e aplicam uma função de ativação,estas funções de ativação           modelam padrões não lineares complexos, que os modelos mais simples podem perder, resumindo em miudo elas\n",
    "          fazem uma normalização, transformando valores em um intervalo padrão, como exemplo a função de ativação sigmoid\n",
    "          que faz uma conversão do valor para que este esteja em um intervalo entre 0 e 1\n",
    "            \n",
    "'''"
   ]
  },
  {
   "cell_type": "code",
   "execution_count": null,
   "metadata": {},
   "outputs": [],
   "source": []
  },
  {
   "cell_type": "code",
   "execution_count": null,
   "metadata": {},
   "outputs": [],
   "source": []
  }
 ],
 "metadata": {
  "kernelspec": {
   "display_name": "Python 3",
   "language": "python",
   "name": "python3"
  },
  "language_info": {
   "codemirror_mode": {
    "name": "ipython",
    "version": 3
   },
   "file_extension": ".py",
   "mimetype": "text/x-python",
   "name": "python",
   "nbconvert_exporter": "python",
   "pygments_lexer": "ipython3",
   "version": "3.7.6"
  }
 },
 "nbformat": 4,
 "nbformat_minor": 4
}
